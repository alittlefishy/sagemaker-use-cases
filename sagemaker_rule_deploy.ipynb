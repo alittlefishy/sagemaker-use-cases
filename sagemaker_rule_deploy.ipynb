{
  "nbformat": 4,
  "nbformat_minor": 0,
  "metadata": {
    "colab": {
      "name": "sagemaker_rule_deploy.ipynb",
      "provenance": [],
      "collapsed_sections": []
    },
    "kernelspec": {
      "name": "python3",
      "display_name": "Python 3"
    },
    "language_info": {
      "name": "python"
    }
  },
  "cells": [
    {
      "cell_type": "code",
      "source": [
        "# Install and Load Packages\n",
        "\n",
        "!pip install -q sagemaker-studio-image-build"
      ],
      "metadata": {
        "id": "tqSoH9eBghVb"
      },
      "execution_count": null,
      "outputs": []
    },
    {
      "cell_type": "code",
      "source": [
        "import pandas as pd\n",
        "import numpy as np\n",
        "import sagemaker as sage\n",
        "\n",
        "import boto3\n",
        "import re\n",
        "import os\n",
        "\n",
        "from sklearn.datasets import load_iris\n",
        "from sagemaker import get_execution_role\n",
        "from sagemaker.serializers import CSVSerializer"
      ],
      "metadata": {
        "id": "DJnCxUTTgsSl"
      },
      "execution_count": null,
      "outputs": []
    },
    {
      "cell_type": "code",
      "source": [
        "# Data Preparation\n",
        "\n",
        "data = load_iris()\n",
        "df = pd.DataFrame(data=data.data, columns=data.feature_names)\n",
        "df.insert(loc=0, column='target', value=data.target)\n",
        "mapping = {0:'setosa', 1:'versicolor', 2:'virginica'}\n",
        "df['target'] = df['target'].map(mapping)\n",
        "df.head()"
      ],
      "metadata": {
        "id": "UuufmL8Wgti-"
      },
      "execution_count": null,
      "outputs": []
    },
    {
      "cell_type": "code",
      "source": [
        "os.makedirs('data', exist_ok=True)\n",
        "df.to_csv('data/iris.csv', header=False, index=False)\n"
      ],
      "metadata": {
        "id": "9xhyGFm4gtp9"
      },
      "execution_count": null,
      "outputs": []
    },
    {
      "cell_type": "code",
      "source": [
        "# Unzip Deployment Package\n",
        "\n",
        "# Run the following conda install in case unzip is not found\n",
        "# !conda install -y -c conda-forge unzip\n",
        "\n",
        "!unzip container.zip"
      ],
      "metadata": {
        "id": "GY26Dbiugts9"
      },
      "execution_count": null,
      "outputs": []
    },
    {
      "cell_type": "code",
      "source": [
        "# Build Docker Container\n",
        "\n",
        "%%sh\n",
        "\n",
        "cd container\n",
        "\n",
        "chmod +x model/train\n",
        "chmod +x model/serve\n",
        "\n",
        "sm-docker build . --repository sagemaker-iris-rule:latest --no-logs"
      ],
      "metadata": {
        "id": "pueuUDiegtvt"
      },
      "execution_count": null,
      "outputs": []
    },
    {
      "cell_type": "code",
      "source": [
        "# Train Model\n",
        "## Note that this model is trained for demo purposes only - it's not the model that we deploy\n",
        "\n",
        "prefix = 'sagemaker-iris-rule'\n",
        "role = get_execution_role()\n",
        "WORK_DIRECTORY = 'data'\n",
        "data_location = sess.upload_data(WORK_DIRECTORY, key_prefix=prefix)\n",
        "\n",
        "sess = sage.Session()"
      ],
      "metadata": {
        "id": "Py51bU7SgtyM"
      },
      "execution_count": null,
      "outputs": []
    },
    {
      "cell_type": "code",
      "source": [
        "account = sess.boto_session.client('sts').get_caller_identity()['Account']\n",
        "region = sess.boto_session.region_name\n",
        "image = '{}.dkr.ecr.{}.amazonaws.com/sagemaker-iris-rule:latest'.format(account, region)\n",
        "\n",
        "model = sage.estimator.Estimator(image,\n",
        "                                 role, instance_count=1, instance_type='ml.c4.2xlarge',\n",
        "                                 output_path='s3://{}/output'.format(sess.default_bucket()),\n",
        "                                 sagemaker_session=sess)\n",
        "\n",
        "file_location = data_location + '/iris.csv'\n",
        "model.fit(file_location)"
      ],
      "metadata": {
        "id": "TEb3HI5Rgt0Y"
      },
      "execution_count": null,
      "outputs": []
    },
    {
      "cell_type": "code",
      "source": [
        "# Deploy Rule\n",
        "\n",
        "predictor = model.deploy(initial_instance_count=1,\n",
        "                         instance_type='ml.m4.xlarge',\n",
        "                         serializer=CSVSerializer())"
      ],
      "metadata": {
        "id": "HasN6s5mgt23"
      },
      "execution_count": null,
      "outputs": []
    },
    {
      "cell_type": "code",
      "source": [
        "# Run Inference on Test Data\n",
        "\n",
        "tdf = pd.read_csv(file_location, header=None)\n",
        "tdf.drop(tdf.columns[[0]], axis=1, inplace=True)\n",
        "tdf = tdf.sample(10)\n",
        "\n",
        "print(predictor.predict(tdf.values).decode('utf-8'))"
      ],
      "metadata": {
        "id": "H9z0vxZvgt5l"
      },
      "execution_count": null,
      "outputs": []
    },
    {
      "cell_type": "code",
      "source": [
        "# Cleanup\n",
        "\n",
        "sess.delete_endpoint(predictor.endpoint_name)"
      ],
      "metadata": {
        "id": "nF35zEHqmpEt"
      },
      "execution_count": null,
      "outputs": []
    }
  ]
}